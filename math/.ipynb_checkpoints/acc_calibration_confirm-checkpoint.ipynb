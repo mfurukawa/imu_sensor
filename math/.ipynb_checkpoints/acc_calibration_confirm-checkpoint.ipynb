{
 "cells": [
  {
   "cell_type": "markdown",
   "metadata": {},
   "source": [
    "# acc calibration\n",
    "Masahiro Furukawa\n",
    "\n",
    "Oct 1, 2020"
   ]
  },
  {
   "cell_type": "code",
   "execution_count": 74,
   "metadata": {},
   "outputs": [
    {
     "name": "stdout",
     "output_type": "stream",
     "text": [
      "\n",
      "r3\n",
      "[ 0.  0. -1.]\n",
      "\n",
      "r2\n",
      "[ 0.         -0.11043153  0.        ]\n",
      "\n",
      "r1\n",
      "[ 0.11043153  0.          0.        ]\n",
      "\n",
      "rotmat:\n",
      "[[ 0.11043153  0.          0.        ]\n",
      " [ 0.         -0.11043153  0.        ]\n",
      " [ 0.          0.         -1.        ]]\n"
     ]
    }
   ],
   "source": [
    "import numpy as np\n",
    "\n",
    "# coordinatino definition\n",
    "# Front +x\n",
    "# Left   +y\n",
    "# Top    +z\n",
    "\n",
    "# acc vector in world coordinate\n",
    "a_w = np.array([1,2,3])\n",
    "\n",
    "# acc vector in local coordinate\n",
    "a_s = np.array([0,0,1])\n",
    "\n",
    "def normalize(v):\n",
    "    L =  v[0]**2 + v[1]**2 + v[2]**2\n",
    "#     print(L)\n",
    "    return np.array(v / np.sqrt(float(L)))\n",
    "\n",
    "# v = normalize(a_w)\n",
    "# print(v)\n",
    "# v = normalize(v)\n",
    "# print(v)\n",
    "\n",
    "\n",
    "# \n",
    "#  STEP 1\n",
    "# \n",
    "\n",
    "#  get sensor data \n",
    "a_s1 = np.array([0, 0, -1])\n",
    "\n",
    "r3 = normalize(a_s1)\n",
    "print(\"\\nr3\")\n",
    "print(r3)\n",
    "# print(np.dot(r3, a_s1))\n",
    "\n",
    "\n",
    "# \n",
    "# STEP2 \n",
    "# \n",
    "\n",
    "#  get sensor data  (rotated on pitch axis) ex.) rotated with 45 degree\n",
    "# a_s2 = np.array([0.707106781186548, 0, -0.707106781186548])\n",
    "a_s2 = np.array([0.1, 0, -0.9])\n",
    "a_s2 = normalize(a_s2)\n",
    "\n",
    "#  use np.cross rather than *np.outer*\n",
    "r2 = np.cross(a_s1, a_s2)\n",
    "print(\"\\nr2\")\n",
    "print(r2)\n",
    "\n",
    "r1 = np.cross(r2, r3)\n",
    "\n",
    "print(\"\\nr1\")\n",
    "print(r1)\n",
    "\n",
    "rotmat = np.array([r1, r2, r3])\n",
    "print(\"\\nrotmat:\")\n",
    "print(rotmat)"
   ]
  }
 ],
 "metadata": {
  "kernelspec": {
   "display_name": "Python 2.7.17 64-bit",
   "language": "python",
   "name": "python271764bit87cce30ff1834c45a47efd6e687fd7bd"
  },
  "language_info": {
   "codemirror_mode": {
    "name": "ipython",
    "version": 2
   },
   "file_extension": ".py",
   "mimetype": "text/x-python",
   "name": "python",
   "nbconvert_exporter": "python",
   "pygments_lexer": "ipython2",
   "version": "2.7.17"
  }
 },
 "nbformat": 4,
 "nbformat_minor": 2
}
